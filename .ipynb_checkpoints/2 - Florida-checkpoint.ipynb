{
 "cells": [
  {
   "cell_type": "markdown",
   "metadata": {},
   "source": [
    "# Notebook Summary - Florida Election EDA and Modeling\n",
    "\n",
    "In our national level analysis, Florida was identified as the key swing state in Trump's re-election bid in 2020.   He needs Florida to win in 41 of the 42 electoral vote scenarios.  Again we use an exact stop date of 7/13/20 so we can limit additional new variables from impacting the ability to conduct this project.\n",
    "\n",
    "*** please note *** \n",
    "From when we started this project in June to the completion in July, the forecasts and polling has swung in favor of Biden so far that the likelihood of a Trump Victory is very slim.   However to demonstrate a more typical scenario, we put the swing states back in play and conducted an analysis assuming they were up for grabs.  This is roughly 100 Electoral Votes worth of elections.\n",
    "\n",
    "\n",
    "The purpose of this notebook is to conduct a bottom's up analysis to uncover key parts of Florida for targeted micro-level strategy.\n",
    "\n",
    "In this noteboook we will:\n",
    "\n",
    "- Provide EDA for our florida level data\n",
    "- Create Florida based data visualizations of registered voters\n",
    "- Identify key counties\n",
    "\n",
    "Issues for future:\n",
    "- county level data is sporadic and most of it does not have other sources for a sanity check.  We have to assume that census.gov is correct.  However we run into issues like Nassau County having more registered voters in 2018 than they did population.\n",
    "\n",
    "- At some level the demographic data doesn't filter down further.   We used as much factual data as we could in building up the anticipated vote but needed to make straight line assumptions in other cases.   e.g. 90% of registered voters will vote for President is an anecdotal statistic but we also know not all registered voters actually vote.   So we took a straight 90% of the registered voters and had them vote party line, leaving the remainder of undecideds for us to model.\n",
    "\n"
   ]
  },
  {
   "cell_type": "code",
   "execution_count": 70,
   "metadata": {},
   "outputs": [],
   "source": [
    "import sys\n",
    "# the mock-0.3.1 dir contains testcase.py, testutils.py & mock.py\n",
    "sys.path.append('functions')\n",
    "\n",
    "import pandas as pd\n",
    "import Pres_Poll as pp \n",
    "\n",
    "# visualization\n",
    "import matplotlib.pyplot as plt\n",
    "import numpy as np\n",
    "%matplotlib inline\n",
    "import seaborn as sns\n",
    "\n",
    "#sklearn models\n",
    "from sklearn import preprocessing\n",
    "\n",
    "from sklearn.metrics import accuracy_score, f1_score, confusion_matrix\n",
    "from sklearn.metrics import r2_score, mean_squared_error, classification_report\n",
    "\n",
    "from sklearn import tree\n",
    "from sklearn import ensemble\n",
    "from sklearn.tree import DecisionTreeClassifier\n",
    "from sklearn.tree import DecisionTreeRegressor\n",
    "\n",
    "from sklearn.ensemble import RandomForestClassifier\n",
    "from sklearn.ensemble import BaggingClassifier\n",
    "from sklearn.ensemble import GradientBoostingRegressor\n",
    "from sklearn.ensemble import AdaBoostClassifier\n",
    "from sklearn.linear_model import LinearRegression\n",
    "from sklearn.linear_model import LogisticRegression\n",
    "\n",
    "from sklearn import model_selection\n",
    "from sklearn.model_selection import train_test_split\n",
    "from sklearn.model_selection import GridSearchCV\n",
    "from sklearn.model_selection import cross_val_score\n",
    "from sklearn.model_selection import RandomizedSearchCV\n",
    "from sklearn.model_selection import KFold\n",
    "from sklearn.cluster import KMeans\n",
    "\n",
    "from scipy import stats"
   ]
  },
  {
   "cell_type": "markdown",
   "metadata": {},
   "source": [
    "# 0. Helper Functions"
   ]
  },
  {
   "cell_type": "code",
   "execution_count": 2,
   "metadata": {},
   "outputs": [],
   "source": [
    "def isPres(year):\n",
    "    # Separates voter turnout and returns for years in which they voted for President.\n",
    "    \n",
    "    '''  This is a helper function we used to create a column so we could label presidential votes\n",
    "    vs non-presidential votes\n",
    "    '''\n",
    "    \n",
    "    pres_years = [1996, 2000, 2004, 2008, 2012, 2016]\n",
    "    if year in pres_years:\n",
    "        return ('Pres')\n",
    "    return ('Gen')"
   ]
  },
  {
   "cell_type": "code",
   "execution_count": 3,
   "metadata": {},
   "outputs": [],
   "source": [
    "def plot_feature_importances(model):\n",
    "\n",
    "    ''' plots a horizontal bar chart using the feature_imporances_ /\n",
    "    object of the model being run.  Makes it easy for us to visualize /\n",
    "    our most importat features. '''    \n",
    "\n",
    "    n_features = X_train.shape[1]\n",
    "    plt.figure(figsize=(8,8))\n",
    "    plt.barh(range(n_features), model.feature_importances_, align='center') \n",
    "    plt.yticks(np.arange(n_features), X_train.columns.values) \n",
    "    plt.title ('Ranking our Features')\n",
    "    plt.xlabel('Feature importance')\n",
    "    plt.ylabel('Feature')\n"
   ]
  },
  {
   "cell_type": "code",
   "execution_count": 4,
   "metadata": {},
   "outputs": [],
   "source": [
    "def DTC(X_train, Y_train):\n",
    "    \n",
    "    '''\n",
    "    runs a Decision Tree Classifier on the test data\n",
    "    returns accuracy.\n",
    "    '''\n",
    "    \n",
    "    DTC = tree.DecisionTreeClassifier()\n",
    "    DTC = DTC.fit(X_train, Y_train)\n",
    "    \n",
    "    # Predictions\n",
    "    DTC_train_pred = DTC.predict(X_train)\n",
    "    DTC_test_pred = DTC.predict(X_test) \n",
    "    \n",
    "    accuracy_Train = accuracy_score(DTC_train_pred, Y_train)\n",
    "    accuracy_Test = accuracy_score(DTC_test_pred,Y_test)\n",
    "    toprow = X_test.columns.unique()\n",
    "    feature_importances = DTC.feature_importances_\n",
    "\n",
    "    return(accuracy_score(DTC_test_pred,Y_test))"
   ]
  },
  {
   "cell_type": "code",
   "execution_count": 5,
   "metadata": {},
   "outputs": [],
   "source": [
    "def BT(X_train, Y_train):\n",
    "    '''\n",
    "    runs a Bagged Tree Classifier on the test data\n",
    "    returns accuracy \n",
    "    \n",
    "    '''\n",
    "    bagged_tree =  ensemble.BaggingClassifier(tree.DecisionTreeClassifier(criterion='gini', max_depth=5), \n",
    "                                 n_estimators=20)\n",
    "    bagged_tree.fit(X_train, Y_train)    \n",
    "    \n",
    "    #Prediction\n",
    "    bagged_tree_pred = bagged_tree.predict(X_test)\n",
    "    return (accuracy_score(Y_test, bagged_tree_pred))"
   ]
  },
  {
   "cell_type": "code",
   "execution_count": 6,
   "metadata": {},
   "outputs": [],
   "source": [
    "def RF(X_train, Y_train):\n",
    "    '''\n",
    "    runs a Random Forest classifier on the test data\n",
    "    returns accuracy.\n",
    "    \n",
    "    '''\n",
    "    RF = ensemble.RandomForestClassifier(n_estimators = 100, max_depth = 5)\n",
    "    RF.fit(X_train, Y_train)\n",
    "    \n",
    "    # Predictions\n",
    "    RF_train_pred = RF.predict(X_train)\n",
    "    RF_test_pred = RF.predict(X_test)\n",
    "\n",
    "    return (accuracy_score(Y_test,RF_test_pred))"
   ]
  },
  {
   "cell_type": "code",
   "execution_count": 7,
   "metadata": {},
   "outputs": [],
   "source": [
    "def GS_tree(X_train, Y_train):\n",
    "    '''\n",
    "    runs a GridSearch using a DecisionTree Classifier on the test data\n",
    "    returns accuracy.\n",
    "    \n",
    "    '''\n",
    "    dt_param_grid = {\n",
    "        'criterion': ['gini', 'entropy'],\n",
    "        'max_depth': [None, 2, 3, 4, 5, 6],\n",
    "        'min_samples_split': [2, 5, 10],\n",
    "        'min_samples_leaf': [1, 2, 3, 4, 5, 6]\n",
    "        }\n",
    "    dt_grid_search = GridSearchCV(tree.DecisionTreeClassifier(), dt_param_grid, cv=3, return_train_score=True, verbose = 1, n_jobs=-1)\n",
    "\n",
    "    dt_grid_search.fit(X_train, Y_train)\n",
    "    print(\"Best Parameter Combination Found During Grid Search:\")\n",
    "    print(dt_grid_search.best_params_)\n",
    "    gstree_pred = dt_grid_search.predict(X_test)\n",
    "    return(round(accuracy_score(Y_test, gstree_pred) * 100, 4))"
   ]
  },
  {
   "cell_type": "code",
   "execution_count": 8,
   "metadata": {},
   "outputs": [],
   "source": [
    "def GS_forest(X_train, Y_train):\n",
    "    \n",
    "    '''\n",
    "    runs a GridSearch using Random Forest on the test data\n",
    "    returns accuracy.\n",
    "    \n",
    "    '''\n",
    "    rf_param_grid = {\n",
    "        'n_estimators': [10, 30, 100],\n",
    "        'criterion': ['gini', 'entropy'],\n",
    "        'max_depth': [None, 2, 6, 10],\n",
    "        'min_samples_split': [5, 10],\n",
    "        'min_samples_leaf': [3, 6]\n",
    "    }\n",
    "    rf_clf = RandomForestClassifier(n_estimators = 5, max_features= 10, max_depth= 5)\n",
    "    rf_grid_search = GridSearchCV(rf_clf, rf_param_grid, cv=3, verbose=3, n_jobs=-1, return_train_score=True)\n",
    "    rf_grid_search.fit(X_train, Y_train)\n",
    "    print(f\"Optimal Parameters: {rf_grid_search.best_params_}\")\n",
    "    return (round(rf_grid_search.best_score_, 4)*100)"
   ]
  },
  {
   "cell_type": "code",
   "execution_count": 49,
   "metadata": {},
   "outputs": [],
   "source": [
    "def get_turnout(county):\n",
    "    '''\n",
    "    Given a particular county in Florida, this function uses linearRegression to calculate\n",
    "    anticipated voter turnout based on the Time Series Data from historic election returns\n",
    "    \n",
    "    '''\n",
    "    temp_county = elections[(elections['county']==county ) & (elections['Pres']=='Pres' )].copy()\n",
    "    \n",
    "    # cleans up our turnout from a string with '%' to a float\n",
    "    temp_county['turnout_pct'] = temp_county['turnout_pct'].map(lambda x: float(x.strip('%')))\n",
    "    regressor = LinearRegression()  \n",
    "    y = temp_county['turnout_pct'].values.reshape(-1, 1)\n",
    "    X = temp_county['year'].values.reshape(-1,1)\n",
    "    regressor.fit(X, y)\n",
    "    \n",
    "    pred = 2020*regressor.coef_ + regressor.intercept_\n",
    "    \n",
    "    return (pred[0][0])"
   ]
  },
  {
   "cell_type": "markdown",
   "metadata": {},
   "source": [
    "# 1. Florida Polls"
   ]
  },
  {
   "cell_type": "code",
   "execution_count": 69,
   "metadata": {},
   "outputs": [],
   "source": [
    "# filter for all Florida Polls\n",
    "\n",
    "df = pp.sanitize_Polls()\n",
    "state = 'Florida'\n",
    "FL = df[df['state']==state].copy()"
   ]
  },
  {
   "cell_type": "code",
   "execution_count": 10,
   "metadata": {},
   "outputs": [
    {
     "data": {
      "text/html": [
       "<div>\n",
       "<style scoped>\n",
       "    .dataframe tbody tr th:only-of-type {\n",
       "        vertical-align: middle;\n",
       "    }\n",
       "\n",
       "    .dataframe tbody tr th {\n",
       "        vertical-align: top;\n",
       "    }\n",
       "\n",
       "    .dataframe thead th {\n",
       "        text-align: right;\n",
       "    }\n",
       "</style>\n",
       "<table border=\"1\" class=\"dataframe\">\n",
       "  <thead>\n",
       "    <tr style=\"text-align: right;\">\n",
       "      <th></th>\n",
       "      <th>poll_id</th>\n",
       "      <th>state</th>\n",
       "      <th>sample_size</th>\n",
       "      <th>date</th>\n",
       "      <th>biden_pct</th>\n",
       "      <th>trump_pct</th>\n",
       "      <th>poll_diff</th>\n",
       "      <th>conf</th>\n",
       "      <th>stdev</th>\n",
       "    </tr>\n",
       "  </thead>\n",
       "  <tbody>\n",
       "    <tr>\n",
       "      <th>4</th>\n",
       "      <td>66992</td>\n",
       "      <td>Florida</td>\n",
       "      <td>1072</td>\n",
       "      <td>2020-06-29</td>\n",
       "      <td>45.9</td>\n",
       "      <td>45.94</td>\n",
       "      <td>0.04</td>\n",
       "      <td>2.98</td>\n",
       "      <td>1.490</td>\n",
       "    </tr>\n",
       "    <tr>\n",
       "      <th>10</th>\n",
       "      <td>66957</td>\n",
       "      <td>Florida</td>\n",
       "      <td>951</td>\n",
       "      <td>2020-06-26</td>\n",
       "      <td>50.0</td>\n",
       "      <td>45.00</td>\n",
       "      <td>5.00</td>\n",
       "      <td>3.18</td>\n",
       "      <td>1.590</td>\n",
       "    </tr>\n",
       "    <tr>\n",
       "      <th>24</th>\n",
       "      <td>66916</td>\n",
       "      <td>Florida</td>\n",
       "      <td>1010</td>\n",
       "      <td>2020-06-20</td>\n",
       "      <td>49.0</td>\n",
       "      <td>40.00</td>\n",
       "      <td>9.00</td>\n",
       "      <td>3.08</td>\n",
       "      <td>1.540</td>\n",
       "    </tr>\n",
       "    <tr>\n",
       "      <th>37</th>\n",
       "      <td>66893</td>\n",
       "      <td>Florida</td>\n",
       "      <td>651</td>\n",
       "      <td>2020-06-08</td>\n",
       "      <td>47.0</td>\n",
       "      <td>41.00</td>\n",
       "      <td>6.00</td>\n",
       "      <td>3.83</td>\n",
       "      <td>1.915</td>\n",
       "    </tr>\n",
       "    <tr>\n",
       "      <th>49</th>\n",
       "      <td>66906</td>\n",
       "      <td>Florida</td>\n",
       "      <td>1079</td>\n",
       "      <td>2020-06-14</td>\n",
       "      <td>45.0</td>\n",
       "      <td>41.00</td>\n",
       "      <td>4.00</td>\n",
       "      <td>2.97</td>\n",
       "      <td>1.485</td>\n",
       "    </tr>\n",
       "    <tr>\n",
       "      <th>53</th>\n",
       "      <td>66829</td>\n",
       "      <td>Florida</td>\n",
       "      <td>713</td>\n",
       "      <td>2020-06-12</td>\n",
       "      <td>50.0</td>\n",
       "      <td>43.00</td>\n",
       "      <td>7.00</td>\n",
       "      <td>3.67</td>\n",
       "      <td>1.835</td>\n",
       "    </tr>\n",
       "    <tr>\n",
       "      <th>63</th>\n",
       "      <td>66819</td>\n",
       "      <td>Florida</td>\n",
       "      <td>910</td>\n",
       "      <td>2020-06-09</td>\n",
       "      <td>50.0</td>\n",
       "      <td>40.00</td>\n",
       "      <td>10.00</td>\n",
       "      <td>3.25</td>\n",
       "      <td>1.625</td>\n",
       "    </tr>\n",
       "    <tr>\n",
       "      <th>82</th>\n",
       "      <td>66711</td>\n",
       "      <td>Florida</td>\n",
       "      <td>1186</td>\n",
       "      <td>2020-05-29</td>\n",
       "      <td>48.0</td>\n",
       "      <td>45.00</td>\n",
       "      <td>3.00</td>\n",
       "      <td>2.84</td>\n",
       "      <td>1.420</td>\n",
       "    </tr>\n",
       "    <tr>\n",
       "      <th>88</th>\n",
       "      <td>66785</td>\n",
       "      <td>Florida</td>\n",
       "      <td>881</td>\n",
       "      <td>2020-05-18</td>\n",
       "      <td>47.0</td>\n",
       "      <td>43.80</td>\n",
       "      <td>3.20</td>\n",
       "      <td>3.30</td>\n",
       "      <td>1.650</td>\n",
       "    </tr>\n",
       "    <tr>\n",
       "      <th>90</th>\n",
       "      <td>66554</td>\n",
       "      <td>Florida</td>\n",
       "      <td>4763</td>\n",
       "      <td>2020-05-26</td>\n",
       "      <td>47.5</td>\n",
       "      <td>46.70</td>\n",
       "      <td>0.80</td>\n",
       "      <td>1.42</td>\n",
       "      <td>0.710</td>\n",
       "    </tr>\n",
       "    <tr>\n",
       "      <th>109</th>\n",
       "      <td>66308</td>\n",
       "      <td>Florida</td>\n",
       "      <td>2149</td>\n",
       "      <td>2020-05-14</td>\n",
       "      <td>44.5</td>\n",
       "      <td>43.90</td>\n",
       "      <td>0.60</td>\n",
       "      <td>2.10</td>\n",
       "      <td>1.050</td>\n",
       "    </tr>\n",
       "    <tr>\n",
       "      <th>116</th>\n",
       "      <td>66504</td>\n",
       "      <td>Florida</td>\n",
       "      <td>1014</td>\n",
       "      <td>2020-05-10</td>\n",
       "      <td>45.0</td>\n",
       "      <td>43.00</td>\n",
       "      <td>2.00</td>\n",
       "      <td>3.06</td>\n",
       "      <td>1.530</td>\n",
       "    </tr>\n",
       "    <tr>\n",
       "      <th>123</th>\n",
       "      <td>66288</td>\n",
       "      <td>Florida</td>\n",
       "      <td>928</td>\n",
       "      <td>2020-05-08</td>\n",
       "      <td>52.7</td>\n",
       "      <td>47.30</td>\n",
       "      <td>5.40</td>\n",
       "      <td>3.21</td>\n",
       "      <td>1.605</td>\n",
       "    </tr>\n",
       "    <tr>\n",
       "      <th>164</th>\n",
       "      <td>65905</td>\n",
       "      <td>Florida</td>\n",
       "      <td>1004</td>\n",
       "      <td>2020-04-18</td>\n",
       "      <td>46.0</td>\n",
       "      <td>43.00</td>\n",
       "      <td>3.00</td>\n",
       "      <td>3.08</td>\n",
       "      <td>1.540</td>\n",
       "    </tr>\n",
       "    <tr>\n",
       "      <th>166</th>\n",
       "      <td>65841</td>\n",
       "      <td>Florida</td>\n",
       "      <td>1385</td>\n",
       "      <td>2020-04-16</td>\n",
       "      <td>46.0</td>\n",
       "      <td>42.00</td>\n",
       "      <td>4.00</td>\n",
       "      <td>2.62</td>\n",
       "      <td>1.310</td>\n",
       "    </tr>\n",
       "    <tr>\n",
       "      <th>176</th>\n",
       "      <td>65779</td>\n",
       "      <td>Florida</td>\n",
       "      <td>5659</td>\n",
       "      <td>2020-04-16</td>\n",
       "      <td>48.3</td>\n",
       "      <td>47.50</td>\n",
       "      <td>0.80</td>\n",
       "      <td>1.30</td>\n",
       "      <td>0.650</td>\n",
       "    </tr>\n",
       "  </tbody>\n",
       "</table>\n",
       "</div>"
      ],
      "text/plain": [
       "     poll_id    state  sample_size       date  biden_pct  trump_pct  \\\n",
       "4      66992  Florida         1072 2020-06-29       45.9      45.94   \n",
       "10     66957  Florida          951 2020-06-26       50.0      45.00   \n",
       "24     66916  Florida         1010 2020-06-20       49.0      40.00   \n",
       "37     66893  Florida          651 2020-06-08       47.0      41.00   \n",
       "49     66906  Florida         1079 2020-06-14       45.0      41.00   \n",
       "53     66829  Florida          713 2020-06-12       50.0      43.00   \n",
       "63     66819  Florida          910 2020-06-09       50.0      40.00   \n",
       "82     66711  Florida         1186 2020-05-29       48.0      45.00   \n",
       "88     66785  Florida          881 2020-05-18       47.0      43.80   \n",
       "90     66554  Florida         4763 2020-05-26       47.5      46.70   \n",
       "109    66308  Florida         2149 2020-05-14       44.5      43.90   \n",
       "116    66504  Florida         1014 2020-05-10       45.0      43.00   \n",
       "123    66288  Florida          928 2020-05-08       52.7      47.30   \n",
       "164    65905  Florida         1004 2020-04-18       46.0      43.00   \n",
       "166    65841  Florida         1385 2020-04-16       46.0      42.00   \n",
       "176    65779  Florida         5659 2020-04-16       48.3      47.50   \n",
       "\n",
       "     poll_diff  conf  stdev  \n",
       "4         0.04  2.98  1.490  \n",
       "10        5.00  3.18  1.590  \n",
       "24        9.00  3.08  1.540  \n",
       "37        6.00  3.83  1.915  \n",
       "49        4.00  2.97  1.485  \n",
       "53        7.00  3.67  1.835  \n",
       "63       10.00  3.25  1.625  \n",
       "82        3.00  2.84  1.420  \n",
       "88        3.20  3.30  1.650  \n",
       "90        0.80  1.42  0.710  \n",
       "109       0.60  2.10  1.050  \n",
       "116       2.00  3.06  1.530  \n",
       "123       5.40  3.21  1.605  \n",
       "164       3.00  3.08  1.540  \n",
       "166       4.00  2.62  1.310  \n",
       "176       0.80  1.30  0.650  "
      ]
     },
     "execution_count": 10,
     "metadata": {},
     "output_type": "execute_result"
    }
   ],
   "source": [
    "FL"
   ]
  },
  {
   "cell_type": "code",
   "execution_count": 11,
   "metadata": {},
   "outputs": [
    {
     "data": {
      "text/plain": [
       "<Figure size 432x288 with 0 Axes>"
      ]
     },
     "metadata": {},
     "output_type": "display_data"
    },
    {
     "data": {
      "image/png": "[encoded data removed]",
      "text/plain": [
       "<Figure size 864x576 with 1 Axes>"
      ]
     },
     "metadata": {
      "needs_background": "light"
     },
     "output_type": "display_data"
    }
   ],
   "source": [
    "# plotting the polls is actually quite unuseful we haven't factored out the weights and biases.   \n",
    "\n",
    "colors = ['blue', 'red']\n",
    "\n",
    "plt.figure()\n",
    "FL.plot.line(x='date', y=['biden_pct', 'trump_pct'], \n",
    "             color = colors, grid = True, style = '.-', \n",
    "             figsize = (12,8), title = \"Florida Presidential Polls - 2020\",\n",
    "             );\n",
    "plt.ylabel('Percent')\n",
    "plt.show()"
   ]
  },
  {
   "cell_type": "code",
   "execution_count": 12,
   "metadata": {},
   "outputs": [],
   "source": [
    "# ok that's awful to look at. "
   ]
  },
  {
   "cell_type": "markdown",
   "metadata": {},
   "source": [
    "# 2. County Level Statistics - Florida"
   ]
  },
  {
   "cell_type": "code",
   "execution_count": 13,
   "metadata": {},
   "outputs": [
    {
     "data": {
      "text/html": [
       "<div>\n",
       "<style scoped>\n",
       "    .dataframe tbody tr th:only-of-type {\n",
       "        vertical-align: middle;\n",
       "    }\n",
       "\n",
       "    .dataframe tbody tr th {\n",
       "        vertical-align: top;\n",
       "    }\n",
       "\n",
       "    .dataframe thead th {\n",
       "        text-align: right;\n",
       "    }\n",
       "</style>\n",
       "<table border=\"1\" class=\"dataframe\">\n",
       "  <thead>\n",
       "    <tr style=\"text-align: right;\">\n",
       "      <th></th>\n",
       "      <th>year</th>\n",
       "      <th>state</th>\n",
       "      <th>state_po</th>\n",
       "      <th>county</th>\n",
       "      <th>FIPS</th>\n",
       "      <th>office</th>\n",
       "      <th>candidate</th>\n",
       "      <th>party</th>\n",
       "      <th>candidatevotes</th>\n",
       "      <th>totalvotes</th>\n",
       "      <th>version</th>\n",
       "    </tr>\n",
       "  </thead>\n",
       "  <tbody>\n",
       "    <tr>\n",
       "      <th>1160</th>\n",
       "      <td>2000</td>\n",
       "      <td>Florida</td>\n",
       "      <td>FL</td>\n",
       "      <td>Alachua</td>\n",
       "      <td>12001.0</td>\n",
       "      <td>President</td>\n",
       "      <td>Al Gore</td>\n",
       "      <td>democrat</td>\n",
       "      <td>47365.0</td>\n",
       "      <td>85729</td>\n",
       "      <td>20191203</td>\n",
       "    </tr>\n",
       "    <tr>\n",
       "      <th>1161</th>\n",
       "      <td>2000</td>\n",
       "      <td>Florida</td>\n",
       "      <td>FL</td>\n",
       "      <td>Alachua</td>\n",
       "      <td>12001.0</td>\n",
       "      <td>President</td>\n",
       "      <td>George W. Bush</td>\n",
       "      <td>republican</td>\n",
       "      <td>34124.0</td>\n",
       "      <td>85729</td>\n",
       "      <td>20191203</td>\n",
       "    </tr>\n",
       "    <tr>\n",
       "      <th>1162</th>\n",
       "      <td>2000</td>\n",
       "      <td>Florida</td>\n",
       "      <td>FL</td>\n",
       "      <td>Alachua</td>\n",
       "      <td>12001.0</td>\n",
       "      <td>President</td>\n",
       "      <td>Ralph Nader</td>\n",
       "      <td>green</td>\n",
       "      <td>3226.0</td>\n",
       "      <td>85729</td>\n",
       "      <td>20191203</td>\n",
       "    </tr>\n",
       "    <tr>\n",
       "      <th>1163</th>\n",
       "      <td>2000</td>\n",
       "      <td>Florida</td>\n",
       "      <td>FL</td>\n",
       "      <td>Alachua</td>\n",
       "      <td>12001.0</td>\n",
       "      <td>President</td>\n",
       "      <td>Other</td>\n",
       "      <td>NaN</td>\n",
       "      <td>1014.0</td>\n",
       "      <td>85729</td>\n",
       "      <td>20191203</td>\n",
       "    </tr>\n",
       "    <tr>\n",
       "      <th>1164</th>\n",
       "      <td>2000</td>\n",
       "      <td>Florida</td>\n",
       "      <td>FL</td>\n",
       "      <td>Baker</td>\n",
       "      <td>12003.0</td>\n",
       "      <td>President</td>\n",
       "      <td>Al Gore</td>\n",
       "      <td>democrat</td>\n",
       "      <td>2392.0</td>\n",
       "      <td>8154</td>\n",
       "      <td>20191203</td>\n",
       "    </tr>\n",
       "  </tbody>\n",
       "</table>\n",
       "</div>"
      ],
      "text/plain": [
       "      year    state state_po   county     FIPS     office       candidate  \\\n",
       "1160  2000  Florida       FL  Alachua  12001.0  President         Al Gore   \n",
       "1161  2000  Florida       FL  Alachua  12001.0  President  George W. Bush   \n",
       "1162  2000  Florida       FL  Alachua  12001.0  President     Ralph Nader   \n",
       "1163  2000  Florida       FL  Alachua  12001.0  President           Other   \n",
       "1164  2000  Florida       FL    Baker  12003.0  President         Al Gore   \n",
       "\n",
       "           party  candidatevotes  totalvotes   version  \n",
       "1160    democrat         47365.0       85729  20191203  \n",
       "1161  republican         34124.0       85729  20191203  \n",
       "1162       green          3226.0       85729  20191203  \n",
       "1163         NaN          1014.0       85729  20191203  \n",
       "1164    democrat          2392.0        8154  20191203  "
      ]
     },
     "execution_count": 13,
     "metadata": {},
     "output_type": "execute_result"
    }
   ],
   "source": [
    "# Election Returns of all counties in the US\n",
    "county_US_returns = pd.read_csv('data/Returns/countypres_2000-2016.csv')\n",
    "\n",
    "# filter for Florida\n",
    "\n",
    "FL_returns = county_US_returns[county_US_returns['state'] == \"Florida\"].copy()\n",
    "FL_returns.head()"
   ]
  },
  {
   "cell_type": "code",
   "execution_count": 14,
   "metadata": {},
   "outputs": [
    {
     "data": {
      "image/png": "[encoded data removed]",
      "text/plain": [
       "<Figure size 1080x576 with 1 Axes>"
      ]
     },
     "metadata": {
      "needs_background": "light"
     },
     "output_type": "display_data"
    }
   ],
   "source": [
    "# boxplot of the total votes per county in previous presidential elections.   Democrats have the highest vote totals \n",
    "# but republican's have historical advantage.\n",
    "\n",
    "plt.figure(figsize=(15,8))\n",
    "sns.boxplot(x = 'year',       # x variable name\n",
    "            y = 'candidatevotes',       # y variable name\n",
    "            hue = 'party',  # elements in each group variable name\n",
    "            data = FL_returns,     # dataframe to plot\n",
    "            palette = ['b', 'r', 'g']\n",
    "        ).set(title = 'County Vote Distribution by Party ');"
   ]
  },
  {
   "cell_type": "markdown",
   "metadata": {},
   "source": [
    "# 2.1 Florida Voter Demographics\n",
    "\n",
    "Note:  after a fairly exhaustive amount of searching in various voting records and databases it seems that Florida county voting history is not aggregated anywhere and would need to be stitched together from counties with available records.  (Of course they do not format their data in any semblance of a consistent format).  \n",
    "\n",
    "In fact, the Floria Division of Elections is just a woefully sorry website that is somehow based on bootstrap principals only if nesting multiple iframes was considered \"forward thinking\"\n",
    "\n",
    "Also of note, DeSoto county was around only for the 2004 election and we should remove it from the dataset.  Dade county eventually became Miami-Dade county so we will remove that as well"
   ]
  },
  {
   "cell_type": "code",
   "execution_count": 15,
   "metadata": {},
   "outputs": [],
   "source": [
    "# loading our data\n",
    "county_profiles = pd.read_csv('data/States/FL/FL_county_profiles.csv')\n",
    "election_results = pd.read_csv('data/States/FL/General_Election_County_Results_(2008+).csv')\n",
    "\n",
    "df = pd.merge(county_profiles, election_results, on='County', how='left')"
   ]
  },
  {
   "cell_type": "code",
   "execution_count": 16,
   "metadata": {},
   "outputs": [
    {
     "data": {
      "text/html": [
       "<div>\n",
       "<style scoped>\n",
       "    .dataframe tbody tr th:only-of-type {\n",
       "        vertical-align: middle;\n",
       "    }\n",
       "\n",
       "    .dataframe tbody tr th {\n",
       "        vertical-align: top;\n",
       "    }\n",
       "\n",
       "    .dataframe thead th {\n",
       "        text-align: right;\n",
       "    }\n",
       "</style>\n",
       "<table border=\"1\" class=\"dataframe\">\n",
       "  <thead>\n",
       "    <tr style=\"text-align: right;\">\n",
       "      <th></th>\n",
       "      <th>County</th>\n",
       "      <th>2009</th>\n",
       "      <th>2010</th>\n",
       "      <th>2011</th>\n",
       "      <th>2012</th>\n",
       "      <th>2013</th>\n",
       "      <th>2014</th>\n",
       "      <th>2015</th>\n",
       "      <th>2016</th>\n",
       "      <th>2017</th>\n",
       "      <th>...</th>\n",
       "      <th>Pop(1990)</th>\n",
       "      <th>Grow%(10-19)</th>\n",
       "      <th>Grow%(00-09)</th>\n",
       "      <th>Grow%(90-00)</th>\n",
       "      <th>Grow%(30yr)</th>\n",
       "      <th>Senate_2018</th>\n",
       "      <th>Pres_2016</th>\n",
       "      <th>Senate_2016</th>\n",
       "      <th>Pres_2012</th>\n",
       "      <th>Senate_2012</th>\n",
       "    </tr>\n",
       "  </thead>\n",
       "  <tbody>\n",
       "    <tr>\n",
       "      <th>0</th>\n",
       "      <td>Alachua</td>\n",
       "      <td>39345</td>\n",
       "      <td>40644</td>\n",
       "      <td>41373</td>\n",
       "      <td>42818</td>\n",
       "      <td>42149</td>\n",
       "      <td>42045</td>\n",
       "      <td>43073</td>\n",
       "      <td>44702</td>\n",
       "      <td>45478</td>\n",
       "      <td>...</td>\n",
       "      <td>181596</td>\n",
       "      <td>8</td>\n",
       "      <td>14</td>\n",
       "      <td>20</td>\n",
       "      <td>47</td>\n",
       "      <td>1</td>\n",
       "      <td>1</td>\n",
       "      <td>1</td>\n",
       "      <td>1</td>\n",
       "      <td>1</td>\n",
       "    </tr>\n",
       "    <tr>\n",
       "      <th>1</th>\n",
       "      <td>Baker</td>\n",
       "      <td>46315</td>\n",
       "      <td>47276</td>\n",
       "      <td>47041</td>\n",
       "      <td>47149</td>\n",
       "      <td>49236</td>\n",
       "      <td>46865</td>\n",
       "      <td>47121</td>\n",
       "      <td>53327</td>\n",
       "      <td>59506</td>\n",
       "      <td>...</td>\n",
       "      <td>18486</td>\n",
       "      <td>4</td>\n",
       "      <td>22</td>\n",
       "      <td>20</td>\n",
       "      <td>53</td>\n",
       "      <td>0</td>\n",
       "      <td>0</td>\n",
       "      <td>0</td>\n",
       "      <td>0</td>\n",
       "      <td>0</td>\n",
       "    </tr>\n",
       "    <tr>\n",
       "      <th>2</th>\n",
       "      <td>Bay</td>\n",
       "      <td>46240</td>\n",
       "      <td>47770</td>\n",
       "      <td>48225</td>\n",
       "      <td>47364</td>\n",
       "      <td>47461</td>\n",
       "      <td>47274</td>\n",
       "      <td>47368</td>\n",
       "      <td>48577</td>\n",
       "      <td>50283</td>\n",
       "      <td>...</td>\n",
       "      <td>126994</td>\n",
       "      <td>-1</td>\n",
       "      <td>14</td>\n",
       "      <td>17</td>\n",
       "      <td>32</td>\n",
       "      <td>0</td>\n",
       "      <td>0</td>\n",
       "      <td>0</td>\n",
       "      <td>0</td>\n",
       "      <td>0</td>\n",
       "    </tr>\n",
       "    <tr>\n",
       "      <th>3</th>\n",
       "      <td>Bradford</td>\n",
       "      <td>40519</td>\n",
       "      <td>41126</td>\n",
       "      <td>41397</td>\n",
       "      <td>39082</td>\n",
       "      <td>40259</td>\n",
       "      <td>40481</td>\n",
       "      <td>41606</td>\n",
       "      <td>43373</td>\n",
       "      <td>46106</td>\n",
       "      <td>...</td>\n",
       "      <td>22515</td>\n",
       "      <td>1</td>\n",
       "      <td>9</td>\n",
       "      <td>16</td>\n",
       "      <td>27</td>\n",
       "      <td>0</td>\n",
       "      <td>0</td>\n",
       "      <td>0</td>\n",
       "      <td>0</td>\n",
       "      <td>0</td>\n",
       "    </tr>\n",
       "    <tr>\n",
       "      <th>4</th>\n",
       "      <td>Brevard</td>\n",
       "      <td>49114</td>\n",
       "      <td>49523</td>\n",
       "      <td>50068</td>\n",
       "      <td>49099</td>\n",
       "      <td>48039</td>\n",
       "      <td>48483</td>\n",
       "      <td>48925</td>\n",
       "      <td>49914</td>\n",
       "      <td>51536</td>\n",
       "      <td>...</td>\n",
       "      <td>398978</td>\n",
       "      <td>9</td>\n",
       "      <td>14</td>\n",
       "      <td>19</td>\n",
       "      <td>49</td>\n",
       "      <td>0</td>\n",
       "      <td>0</td>\n",
       "      <td>0</td>\n",
       "      <td>0</td>\n",
       "      <td>1</td>\n",
       "    </tr>\n",
       "  </tbody>\n",
       "</table>\n",
       "<p>5 rows × 43 columns</p>\n",
       "</div>"
      ],
      "text/plain": [
       "     County   2009   2010   2011   2012   2013   2014   2015   2016   2017  \\\n",
       "0   Alachua  39345  40644  41373  42818  42149  42045  43073  44702  45478   \n",
       "1     Baker  46315  47276  47041  47149  49236  46865  47121  53327  59506   \n",
       "2       Bay  46240  47770  48225  47364  47461  47274  47368  48577  50283   \n",
       "3  Bradford  40519  41126  41397  39082  40259  40481  41606  43373  46106   \n",
       "4   Brevard  49114  49523  50068  49099  48039  48483  48925  49914  51536   \n",
       "\n",
       "   ...  Pop(1990)  Grow%(10-19)  Grow%(00-09)  Grow%(90-00)  Grow%(30yr)  \\\n",
       "0  ...     181596             8            14            20           47   \n",
       "1  ...      18486             4            22            20           53   \n",
       "2  ...     126994            -1            14            17           32   \n",
       "3  ...      22515             1             9            16           27   \n",
       "4  ...     398978             9            14            19           49   \n",
       "\n",
       "   Senate_2018  Pres_2016  Senate_2016  Pres_2012  Senate_2012  \n",
       "0            1          1            1          1            1  \n",
       "1            0          0            0          0            0  \n",
       "2            0          0            0          0            0  \n",
       "3            0          0            0          0            0  \n",
       "4            0          0            0          0            1  \n",
       "\n",
       "[5 rows x 43 columns]"
      ]
     },
     "execution_count": 16,
     "metadata": {},
     "output_type": "execute_result"
    }
   ],
   "source": [
    "df.head()"
   ]
  },
  {
   "cell_type": "code",
   "execution_count": 17,
   "metadata": {},
   "outputs": [
    {
     "data": {
      "text/plain": [
       "Index(['County', '2009', '2010', '2011', '2012', '2013', '2014', '2015',\n",
       "       '2016', '2017', '2018', 'Bachelors', 'GED', 'Republican', 'Democrat',\n",
       "       'Other Party', 'No Party', 'Totals', 'Black', 'Black%', 'Hispanic',\n",
       "       'Hispanic%', 'Area', 'Density (pop/sqmile)', 'Voter_TAM',\n",
       "       'Unregistered', 'Age(0-17)', 'Age(18-44)', 'Age(45-64)', 'Age(65+)',\n",
       "       'Pop(2019)', 'Pop(2010)', 'Pop(2000)', 'Pop(1990)', 'Grow%(10-19)',\n",
       "       'Grow%(00-09)', 'Grow%(90-00)', 'Grow%(30yr)', 'Senate_2018',\n",
       "       'Pres_2016', 'Senate_2016', 'Pres_2012', 'Senate_2012'],\n",
       "      dtype='object')"
      ]
     },
     "execution_count": 17,
     "metadata": {},
     "output_type": "execute_result"
    }
   ],
   "source": [
    "df.columns.unique()"
   ]
  },
  {
   "cell_type": "code",
   "execution_count": 18,
   "metadata": {},
   "outputs": [],
   "source": [
    "# Dropping a few columns so we can plot how each county voted\n",
    "\n",
    "county = df.drop(columns = ['2009', '2010', '2011', '2012', '2013', '2014', '2015',\n",
    "       '2016', '2017', '2018', 'Bachelors', 'GED', \n",
    "       'Other Party', 'No Party', 'Totals', 'Black',  'Hispanic',\n",
    "       'Area', 'Density (pop/sqmile)', 'Voter_TAM',\n",
    "       'Unregistered', 'Age(0-17)', 'Age(18-44)', 'Age(45-64)', 'Age(65+)',\n",
    "       'Pop(2010)', 'Pop(2000)', 'Pop(1990)', 'Grow%(10-19)',\n",
    "       'Grow%(00-09)', 'Grow%(90-00)', 'Grow%(30yr)', 'Senate_2018',\n",
    "       'Pres_2016', 'Senate_2016', 'Pres_2012', 'Senate_2012']).copy()\n",
    "\n",
    "county['White%'] = 100-county['Black%'] - county['Hispanic%']\n",
    "county['Leaning'] = county['Republican'] > county['Democrat']"
   ]
  },
  {
   "cell_type": "code",
   "execution_count": 19,
   "metadata": {},
   "outputs": [
    {
     "data": {
      "text/plain": [
       "<matplotlib.axes._subplots.AxesSubplot at 0xb0aa790>"
      ]
     },
     "execution_count": 19,
     "metadata": {},
     "output_type": "execute_result"
    },
    {
     "data": {
      "image/png": "[encoded data removed]",
      "text/plain": [
       "<Figure size 1080x576 with 1 Axes>"
      ]
     },
     "metadata": {
      "needs_background": "light"
     },
     "output_type": "display_data"
    }
   ],
   "source": [
    "# 2018 county vote preference by population\n",
    "colors = np.where(county['Leaning'] == True, 'r', 'b')\n",
    "county.plot.scatter(y = 'County', x = 'Pop(2019)', \n",
    "                    c= colors, \n",
    "                    figsize=(15,8),\n",
    "                    title = '2018 Senate Election - Florida County Winning Party by Population Size')"
   ]
  },
  {
   "cell_type": "code",
   "execution_count": 20,
   "metadata": {},
   "outputs": [
    {
     "data": {
      "text/plain": [
       "<matplotlib.axes._subplots.AxesSubplot at 0xb5ecbb0>"
      ]
     },
     "execution_count": 20,
     "metadata": {},
     "output_type": "execute_result"
    },
    {
     "data": {
      "image/png": "[encoded data removed]",
      "text/plain": [
       "<Figure size 1080x576 with 1 Axes>"
      ]
     },
     "metadata": {
      "needs_background": "light"
     },
     "output_type": "display_data"
    }
   ],
   "source": [
    "# 2018 county vote preference by its % population that is white.\n",
    "colors = np.where(county['Leaning'] == True, 'r', 'b')\n",
    "county.plot.scatter(y = 'County', x = 'White%', \n",
    "                    c= colors, \n",
    "                    figsize=(15,8),\n",
    "                    title = '2018 Senate Election - Florida County Winning Party by % Population that is White ' )"
   ]
  },
  {
   "cell_type": "code",
   "execution_count": 21,
   "metadata": {},
   "outputs": [
    {
     "data": {
      "image/png": "[encoded data removed]",
      "text/plain": [
       "<Figure size 432x288 with 1 Axes>"
      ]
     },
     "metadata": {
      "needs_background": "light"
     },
     "output_type": "display_data"
    }
   ],
   "source": [
    "# this chart best shows how race impacts the Florida vote by county.\n",
    "\n",
    "colors = np.where(county['Leaning'] == True, 'r', 'b')\n",
    "fig, ax = plt.subplots()\n",
    "ax.scatter(county[\"White%\"], county['Pop(2019)'], c= colors)\n",
    "plt.title('Population and Political Leanings of FL Counties by Population % White')\n",
    "plt.ylabel('Population')\n",
    "plt.xlabel('% Pop White')\n",
    "plt.show()"
   ]
  },
  {
   "cell_type": "markdown",
   "metadata": {},
   "source": [
    "# 3. Modeling our Voter Data"
   ]
  },
  {
   "cell_type": "code",
   "execution_count": 22,
   "metadata": {},
   "outputs": [],
   "source": [
    "# Get our 2018 data.\n",
    "df2018 = df.copy()\n",
    "\n",
    "# drop unnecessary columns\n",
    "df2018 = df2018.drop(columns = ['County','2009', '2010', '2011', '2012', '2013', '2014', '2015',\n",
    "       '2016', '2017','Pres_2016', 'Senate_2016', 'Pres_2012', 'Senate_2012', 'Pop(2010)', 'Pop(2000)', 'Pop(1990)', 'Grow%(10-19)',\n",
    "       'Grow%(00-09)', 'Grow%(90-00)', 'Grow%(30yr)'])\n",
    "\n",
    "# split data\n",
    "array = df2018.values\n",
    "X = df2018[[col for col in df2018.columns if col!= 'Senate_2018']]\n",
    "Y = df2018['Senate_2018']\n",
    "\n",
    "# I arbitrarily chose 9 as it was my basketball number\n",
    "X_train, X_test, Y_train, Y_test = train_test_split(X, Y, test_size = 0.25, random_state = 9)"
   ]
  },
  {
   "cell_type": "code",
   "execution_count": 23,
   "metadata": {},
   "outputs": [],
   "source": [
    "df2018\n",
    "df2018.rename(columns = {'2018':'income',\n",
    "                        'Senate_2018':'winner'}, \n",
    "                        inplace=True) "
   ]
  },
  {
   "cell_type": "markdown",
   "metadata": {},
   "source": [
    "# Modeling with all Years since 2012\n"
   ]
  },
  {
   "cell_type": "code",
   "execution_count": 24,
   "metadata": {},
   "outputs": [],
   "source": [
    "df_pres_2016 = df.drop(columns = ['County','2009', '2010', '2011', '2012', '2013', '2014', '2015',\n",
    "       '2018', '2017','Senate_2018', 'Senate_2016', 'Pres_2012', 'Senate_2012', 'Pop(2010)', 'Pop(2000)', 'Pop(1990)', 'Grow%(10-19)',\n",
    "       'Grow%(00-09)', 'Grow%(90-00)', 'Grow%(30yr)']).copy()\n",
    "\n",
    "df_pres_2016.rename(columns = {'2016':'income',\n",
    "                              'Pres_2016':'winner'}, \n",
    "                                inplace=True) \n"
   ]
  },
  {
   "cell_type": "code",
   "execution_count": 25,
   "metadata": {},
   "outputs": [],
   "source": [
    "df_senate_2016 = df.drop(columns = ['County','2009', '2010', '2011', '2012', '2013', '2014', '2015',\n",
    "       '2018', '2017','Senate_2018', 'Pres_2016', 'Pres_2012', 'Senate_2012', 'Pop(2010)', 'Pop(2000)', 'Pop(1990)', 'Grow%(10-19)',\n",
    "       'Grow%(00-09)', 'Grow%(90-00)', 'Grow%(30yr)']).copy()\n",
    "df_senate_2016.rename(columns = {'2016':'income',\n",
    "                              'Senate_2016':'winner'}, \n",
    "                                inplace=True) \n"
   ]
  },
  {
   "cell_type": "code",
   "execution_count": 26,
   "metadata": {},
   "outputs": [],
   "source": [
    "df_pres_2012 = df.drop(columns = ['County','2009', '2010', '2011', '2016', '2013', '2014', '2015',\n",
    "       '2018', '2017','Senate_2018', 'Senate_2016', 'Pres_2016', 'Senate_2012', 'Pop(2010)', 'Pop(2000)', 'Pop(1990)', 'Grow%(10-19)',\n",
    "       'Grow%(00-09)', 'Grow%(90-00)', 'Grow%(30yr)']).copy()\n",
    "df_pres_2012.rename(columns = {'2012':'income',\n",
    "                              'Pres_2012':'winner'}, \n",
    "                                inplace=True) \n"
   ]
  },
  {
   "cell_type": "code",
   "execution_count": 27,
   "metadata": {},
   "outputs": [],
   "source": [
    "df_senate_2012 = df.drop(columns = ['County','2009', '2010', '2011', '2016', '2013', '2014', '2015',\n",
    "       '2018', '2017','Senate_2018', 'Pres_2016', 'Pres_2012', 'Senate_2016', 'Pop(2010)', 'Pop(2000)', 'Pop(1990)', 'Grow%(10-19)',\n",
    "       'Grow%(00-09)', 'Grow%(90-00)', 'Grow%(30yr)']).copy()\n",
    "df_senate_2012.rename(columns = {'2012':'income',\n",
    "                              'Senate_2012':'winner'}, \n",
    "                                inplace=True) "
   ]
  },
  {
   "cell_type": "code",
   "execution_count": 28,
   "metadata": {},
   "outputs": [],
   "source": [
    "# we have 5 dataframes worth of elections since 2012, lets combine them into one big test set.\n",
    "\n",
    "dfs = [df2018, df_pres_2016, df_pres_2012, df_senate_2016, df_senate_2012]\n"
   ]
  },
  {
   "cell_type": "code",
   "execution_count": 29,
   "metadata": {},
   "outputs": [],
   "source": [
    "all_years = pd.concat(dfs, sort=False)\n",
    "\n",
    "# making race a single variable instead of multiple to show significance of impact\n",
    "all_years['white%'] = 100 - all_years['Black%'] - all_years['Hispanic%']\n",
    "all_years = all_years.drop(columns = ['Black', 'Black%', 'Hispanic', 'Hispanic%'])"
   ]
  },
  {
   "cell_type": "code",
   "execution_count": 30,
   "metadata": {},
   "outputs": [],
   "source": [
    "# split data\n",
    "array = all_years.values\n",
    "X = all_years[[col for col in all_years.columns if col!= 'winner']]\n",
    "Y = all_years['winner']\n",
    "\n",
    "# split the data again\n",
    "X_train, X_test, Y_train, Y_test = train_test_split(X, Y, test_size = 0.25, random_state = 9)"
   ]
  },
  {
   "cell_type": "code",
   "execution_count": 31,
   "metadata": {},
   "outputs": [
    {
     "data": {
      "text/plain": [
       "0.8571428571428571"
      ]
     },
     "execution_count": 31,
     "metadata": {},
     "output_type": "execute_result"
    }
   ],
   "source": [
    "DTC(X_train, Y_train)"
   ]
  },
  {
   "cell_type": "code",
   "execution_count": 32,
   "metadata": {},
   "outputs": [
    {
     "data": {
      "text/plain": [
       "0.9047619047619048"
      ]
     },
     "execution_count": 32,
     "metadata": {},
     "output_type": "execute_result"
    }
   ],
   "source": [
    "RF(X_train, Y_train)"
   ]
  },
  {
   "cell_type": "code",
   "execution_count": 33,
   "metadata": {},
   "outputs": [
    {
     "data": {
      "text/plain": [
       "0.8928571428571429"
      ]
     },
     "execution_count": 33,
     "metadata": {},
     "output_type": "execute_result"
    }
   ],
   "source": [
    "BT(X_train, Y_train)"
   ]
  },
  {
   "cell_type": "code",
   "execution_count": 34,
   "metadata": {},
   "outputs": [
    {
     "name": "stdout",
     "output_type": "stream",
     "text": [
      "Fitting 3 folds for each of 216 candidates, totalling 648 fits\n"
     ]
    },
    {
     "name": "stderr",
     "output_type": "stream",
     "text": [
      "[Parallel(n_jobs=-1)]: Using backend LokyBackend with 4 concurrent workers.\n",
      "[Parallel(n_jobs=-1)]: Done  71 tasks      | elapsed:    2.7s\n"
     ]
    },
    {
     "name": "stdout",
     "output_type": "stream",
     "text": [
      "Best Parameter Combination Found During Grid Search:\n",
      "{'criterion': 'gini', 'max_depth': 4, 'min_samples_leaf': 1, 'min_samples_split': 2}\n"
     ]
    },
    {
     "name": "stderr",
     "output_type": "stream",
     "text": [
      "[Parallel(n_jobs=-1)]: Done 641 out of 648 | elapsed:    3.4s remaining:    0.0s\n",
      "[Parallel(n_jobs=-1)]: Done 648 out of 648 | elapsed:    3.5s finished\n",
      "C:\\Users\\me\\Anaconda3\\lib\\site-packages\\sklearn\\model_selection\\_search.py:813: DeprecationWarning: The default of the `iid` parameter will change from True to False in version 0.22 and will be removed in 0.24. This will change numeric results when test-set sizes are unequal.\n",
      "  DeprecationWarning)\n"
     ]
    },
    {
     "data": {
      "text/plain": [
       "85.7143"
      ]
     },
     "execution_count": 34,
     "metadata": {},
     "output_type": "execute_result"
    }
   ],
   "source": [
    "GS_tree(X_train, Y_train)"
   ]
  },
  {
   "cell_type": "code",
   "execution_count": 35,
   "metadata": {},
   "outputs": [
    {
     "name": "stderr",
     "output_type": "stream",
     "text": [
      "[Parallel(n_jobs=-1)]: Using backend LokyBackend with 4 concurrent workers.\n"
     ]
    },
    {
     "name": "stdout",
     "output_type": "stream",
     "text": [
      "Fitting 3 folds for each of 96 candidates, totalling 288 fits\n"
     ]
    },
    {
     "name": "stderr",
     "output_type": "stream",
     "text": [
      "[Parallel(n_jobs=-1)]: Done  56 tasks      | elapsed:    1.3s\n",
      "[Parallel(n_jobs=-1)]: Done 281 out of 288 | elapsed:    6.5s remaining:    0.1s\n"
     ]
    },
    {
     "name": "stdout",
     "output_type": "stream",
     "text": [
      "Optimal Parameters: {'criterion': 'entropy', 'max_depth': None, 'min_samples_leaf': 3, 'min_samples_split': 5, 'n_estimators': 30}\n"
     ]
    },
    {
     "name": "stderr",
     "output_type": "stream",
     "text": [
      "[Parallel(n_jobs=-1)]: Done 288 out of 288 | elapsed:    6.8s finished\n",
      "C:\\Users\\me\\Anaconda3\\lib\\site-packages\\sklearn\\model_selection\\_search.py:813: DeprecationWarning: The default of the `iid` parameter will change from True to False in version 0.22 and will be removed in 0.24. This will change numeric results when test-set sizes are unequal.\n",
      "  DeprecationWarning)\n"
     ]
    },
    {
     "data": {
      "text/plain": [
       "91.24"
      ]
     },
     "execution_count": 35,
     "metadata": {},
     "output_type": "execute_result"
    }
   ],
   "source": [
    "GS_forest(X_train, Y_train)"
   ]
  },
  {
   "cell_type": "code",
   "execution_count": 68,
   "metadata": {},
   "outputs": [
    {
     "name": "stdout",
     "output_type": "stream",
     "text": [
      "0.8452380952380952\n"
     ]
    }
   ],
   "source": [
    "# Adaboost\n",
    "\n",
    "ada = AdaBoostClassifier(n_estimators=1000)\n",
    "ada.fit(X_train, Y_train)\n",
    "y_predictions_ada = ada.predict(X_test)\n",
    "print(accuracy_score(y_predictions_ada,Y_test))\n"
   ]
  },
  {
   "cell_type": "markdown",
   "metadata": {},
   "source": [
    "# Optimal Model - Random Forest \n",
    "\n",
    "all the models have been falling between 85-92% accurate, but the random forest consistently scored above 91%\n"
   ]
  },
  {
   "cell_type": "code",
   "execution_count": 37,
   "metadata": {},
   "outputs": [
    {
     "data": {
      "image/png": "[encoded data removed]",
      "text/plain": [
       "<Figure size 576x576 with 1 Axes>"
      ]
     },
     "metadata": {
      "needs_background": "light"
     },
     "output_type": "display_data"
    }
   ],
   "source": [
    "# plotting the feature importances of our optimal model\n",
    "\n",
    "optimal = RandomForestClassifier(n_estimators = 100, max_depth = 5)\n",
    "optimal.fit(X_train, Y_train)\n",
    "plot_feature_importances(optimal)"
   ]
  },
  {
   "cell_type": "markdown",
   "metadata": {},
   "source": [
    "# applying our model to 2020\n"
   ]
  },
  {
   "cell_type": "code",
   "execution_count": 38,
   "metadata": {},
   "outputs": [],
   "source": [
    "# filter data for our most current numbers (2018 household income and 2019 population estimates\n",
    ")\n",
    "df_pres_2020 = df.drop(columns = ['County','2009', '2010', '2011', '2012', '2013', '2014', '2015', '2016', '2017',\n",
    "       'Senate_2018', 'Pres_2016', 'Senate_2016', 'Pres_2012', 'Senate_2012', 'Pop(2010)', 'Pop(2000)', 'Pop(1990)', 'Grow%(10-19)',\n",
    "       'Grow%(00-09)', 'Grow%(90-00)', 'Grow%(30yr)']).copy()\n",
    "df_pres_2020.rename(columns = {'2018':'income'}, inplace=True) \n",
    "\n",
    "df_pres_2020['white%'] = 100 - df_pres_2020['Black%'] - df_pres_2020['Hispanic%']\n",
    "df_pres_2020 = df_pres_2020.drop(columns = ['Black', 'Black%', 'Hispanic', 'Hispanic%'])"
   ]
  },
  {
   "cell_type": "code",
   "execution_count": 39,
   "metadata": {},
   "outputs": [
    {
     "data": {
      "text/html": [
       "<div>\n",
       "<style scoped>\n",
       "    .dataframe tbody tr th:only-of-type {\n",
       "        vertical-align: middle;\n",
       "    }\n",
       "\n",
       "    .dataframe tbody tr th {\n",
       "        vertical-align: top;\n",
       "    }\n",
       "\n",
       "    .dataframe thead th {\n",
       "        text-align: right;\n",
       "    }\n",
       "</style>\n",
       "<table border=\"1\" class=\"dataframe\">\n",
       "  <thead>\n",
       "    <tr style=\"text-align: right;\">\n",
       "      <th></th>\n",
       "      <th>income</th>\n",
       "      <th>Bachelors</th>\n",
       "      <th>GED</th>\n",
       "      <th>Republican</th>\n",
       "      <th>Democrat</th>\n",
       "      <th>Other Party</th>\n",
       "      <th>No Party</th>\n",
       "      <th>Totals</th>\n",
       "      <th>Area</th>\n",
       "      <th>Density (pop/sqmile)</th>\n",
       "      <th>Voter_TAM</th>\n",
       "      <th>Unregistered</th>\n",
       "      <th>Age(0-17)</th>\n",
       "      <th>Age(18-44)</th>\n",
       "      <th>Age(45-64)</th>\n",
       "      <th>Age(65+)</th>\n",
       "      <th>Pop(2019)</th>\n",
       "      <th>white%</th>\n",
       "    </tr>\n",
       "  </thead>\n",
       "  <tbody>\n",
       "    <tr>\n",
       "      <th>0</th>\n",
       "      <td>49078</td>\n",
       "      <td>43</td>\n",
       "      <td>22</td>\n",
       "      <td>49977</td>\n",
       "      <td>91341</td>\n",
       "      <td>2024</td>\n",
       "      <td>42051</td>\n",
       "      <td>185393</td>\n",
       "      <td>875</td>\n",
       "      <td>305</td>\n",
       "      <td>220260</td>\n",
       "      <td>34867</td>\n",
       "      <td>18</td>\n",
       "      <td>48</td>\n",
       "      <td>20</td>\n",
       "      <td>14</td>\n",
       "      <td>267306</td>\n",
       "      <td>68</td>\n",
       "    </tr>\n",
       "    <tr>\n",
       "      <th>1</th>\n",
       "      <td>61769</td>\n",
       "      <td>13</td>\n",
       "      <td>43</td>\n",
       "      <td>9338</td>\n",
       "      <td>4549</td>\n",
       "      <td>94</td>\n",
       "      <td>1771</td>\n",
       "      <td>15752</td>\n",
       "      <td>585</td>\n",
       "      <td>48</td>\n",
       "      <td>21469</td>\n",
       "      <td>5717</td>\n",
       "      <td>24</td>\n",
       "      <td>36</td>\n",
       "      <td>27</td>\n",
       "      <td>14</td>\n",
       "      <td>28249</td>\n",
       "      <td>84</td>\n",
       "    </tr>\n",
       "    <tr>\n",
       "      <th>2</th>\n",
       "      <td>51829</td>\n",
       "      <td>23</td>\n",
       "      <td>31</td>\n",
       "      <td>62100</td>\n",
       "      <td>28606</td>\n",
       "      <td>1603</td>\n",
       "      <td>24237</td>\n",
       "      <td>116546</td>\n",
       "      <td>758</td>\n",
       "      <td>221</td>\n",
       "      <td>131150</td>\n",
       "      <td>14604</td>\n",
       "      <td>22</td>\n",
       "      <td>35</td>\n",
       "      <td>27</td>\n",
       "      <td>17</td>\n",
       "      <td>167283</td>\n",
       "      <td>80</td>\n",
       "    </tr>\n",
       "    <tr>\n",
       "      <th>3</th>\n",
       "      <td>46197</td>\n",
       "      <td>11</td>\n",
       "      <td>40</td>\n",
       "      <td>8650</td>\n",
       "      <td>5663</td>\n",
       "      <td>113</td>\n",
       "      <td>2540</td>\n",
       "      <td>16966</td>\n",
       "      <td>294</td>\n",
       "      <td>98</td>\n",
       "      <td>23032</td>\n",
       "      <td>6066</td>\n",
       "      <td>20</td>\n",
       "      <td>36</td>\n",
       "      <td>27</td>\n",
       "      <td>18</td>\n",
       "      <td>28682</td>\n",
       "      <td>77</td>\n",
       "    </tr>\n",
       "    <tr>\n",
       "      <th>4</th>\n",
       "      <td>54359</td>\n",
       "      <td>29</td>\n",
       "      <td>29</td>\n",
       "      <td>181798</td>\n",
       "      <td>133435</td>\n",
       "      <td>6724</td>\n",
       "      <td>106081</td>\n",
       "      <td>428038</td>\n",
       "      <td>1016</td>\n",
       "      <td>585</td>\n",
       "      <td>484492</td>\n",
       "      <td>56454</td>\n",
       "      <td>19</td>\n",
       "      <td>29</td>\n",
       "      <td>29</td>\n",
       "      <td>23</td>\n",
       "      <td>594469</td>\n",
       "      <td>78</td>\n",
       "    </tr>\n",
       "    <tr>\n",
       "      <th>...</th>\n",
       "      <td>...</td>\n",
       "      <td>...</td>\n",
       "      <td>...</td>\n",
       "      <td>...</td>\n",
       "      <td>...</td>\n",
       "      <td>...</td>\n",
       "      <td>...</td>\n",
       "      <td>...</td>\n",
       "      <td>...</td>\n",
       "      <td>...</td>\n",
       "      <td>...</td>\n",
       "      <td>...</td>\n",
       "      <td>...</td>\n",
       "      <td>...</td>\n",
       "      <td>...</td>\n",
       "      <td>...</td>\n",
       "      <td>...</td>\n",
       "      <td>...</td>\n",
       "    </tr>\n",
       "    <tr>\n",
       "      <th>62</th>\n",
       "      <td>41770</td>\n",
       "      <td>8</td>\n",
       "      <td>38</td>\n",
       "      <td>3833</td>\n",
       "      <td>2892</td>\n",
       "      <td>54</td>\n",
       "      <td>749</td>\n",
       "      <td>7528</td>\n",
       "      <td>244</td>\n",
       "      <td>64</td>\n",
       "      <td>12761</td>\n",
       "      <td>5233</td>\n",
       "      <td>18</td>\n",
       "      <td>38</td>\n",
       "      <td>31</td>\n",
       "      <td>13</td>\n",
       "      <td>15505</td>\n",
       "      <td>71</td>\n",
       "    </tr>\n",
       "    <tr>\n",
       "      <th>63</th>\n",
       "      <td>46760</td>\n",
       "      <td>24</td>\n",
       "      <td>32</td>\n",
       "      <td>139188</td>\n",
       "      <td>127316</td>\n",
       "      <td>4898</td>\n",
       "      <td>105201</td>\n",
       "      <td>376603</td>\n",
       "      <td>1101</td>\n",
       "      <td>489</td>\n",
       "      <td>441247</td>\n",
       "      <td>64644</td>\n",
       "      <td>18</td>\n",
       "      <td>30</td>\n",
       "      <td>28</td>\n",
       "      <td>24</td>\n",
       "      <td>538763</td>\n",
       "      <td>75</td>\n",
       "    </tr>\n",
       "    <tr>\n",
       "      <th>64</th>\n",
       "      <td>62778</td>\n",
       "      <td>18</td>\n",
       "      <td>36</td>\n",
       "      <td>9991</td>\n",
       "      <td>7861</td>\n",
       "      <td>242</td>\n",
       "      <td>3659</td>\n",
       "      <td>21753</td>\n",
       "      <td>606</td>\n",
       "      <td>54</td>\n",
       "      <td>25721</td>\n",
       "      <td>3968</td>\n",
       "      <td>22</td>\n",
       "      <td>36</td>\n",
       "      <td>28</td>\n",
       "      <td>14</td>\n",
       "      <td>32976</td>\n",
       "      <td>82</td>\n",
       "    </tr>\n",
       "    <tr>\n",
       "      <th>65</th>\n",
       "      <td>53785</td>\n",
       "      <td>28</td>\n",
       "      <td>28</td>\n",
       "      <td>32476</td>\n",
       "      <td>10311</td>\n",
       "      <td>671</td>\n",
       "      <td>10327</td>\n",
       "      <td>53785</td>\n",
       "      <td>1038</td>\n",
       "      <td>68</td>\n",
       "      <td>55777</td>\n",
       "      <td>1992</td>\n",
       "      <td>20</td>\n",
       "      <td>32</td>\n",
       "      <td>29</td>\n",
       "      <td>19</td>\n",
       "      <td>70071</td>\n",
       "      <td>87</td>\n",
       "    </tr>\n",
       "    <tr>\n",
       "      <th>66</th>\n",
       "      <td>37188</td>\n",
       "      <td>12</td>\n",
       "      <td>42</td>\n",
       "      <td>9011</td>\n",
       "      <td>4952</td>\n",
       "      <td>111</td>\n",
       "      <td>2573</td>\n",
       "      <td>16647</td>\n",
       "      <td>583</td>\n",
       "      <td>44</td>\n",
       "      <td>20233</td>\n",
       "      <td>3586</td>\n",
       "      <td>20</td>\n",
       "      <td>34</td>\n",
       "      <td>28</td>\n",
       "      <td>18</td>\n",
       "      <td>25387</td>\n",
       "      <td>82</td>\n",
       "    </tr>\n",
       "  </tbody>\n",
       "</table>\n",
       "<p>67 rows × 18 columns</p>\n",
       "</div>"
      ],
      "text/plain": [
       "    income  Bachelors  GED  Republican  Democrat  Other Party  No Party  \\\n",
       "0    49078         43   22       49977     91341         2024     42051   \n",
       "1    61769         13   43        9338      4549           94      1771   \n",
       "2    51829         23   31       62100     28606         1603     24237   \n",
       "3    46197         11   40        8650      5663          113      2540   \n",
       "4    54359         29   29      181798    133435         6724    106081   \n",
       "..     ...        ...  ...         ...       ...          ...       ...   \n",
       "62   41770          8   38        3833      2892           54       749   \n",
       "63   46760         24   32      139188    127316         4898    105201   \n",
       "64   62778         18   36        9991      7861          242      3659   \n",
       "65   53785         28   28       32476     10311          671     10327   \n",
       "66   37188         12   42        9011      4952          111      2573   \n",
       "\n",
       "    Totals  Area  Density (pop/sqmile)  Voter_TAM  Unregistered  Age(0-17)  \\\n",
       "0   185393   875                   305     220260         34867         18   \n",
       "1    15752   585                    48      21469          5717         24   \n",
       "2   116546   758                   221     131150         14604         22   \n",
       "3    16966   294                    98      23032          6066         20   \n",
       "4   428038  1016                   585     484492         56454         19   \n",
       "..     ...   ...                   ...        ...           ...        ...   \n",
       "62    7528   244                    64      12761          5233         18   \n",
       "63  376603  1101                   489     441247         64644         18   \n",
       "64   21753   606                    54      25721          3968         22   \n",
       "65   53785  1038                    68      55777          1992         20   \n",
       "66   16647   583                    44      20233          3586         20   \n",
       "\n",
       "    Age(18-44)  Age(45-64)  Age(65+)  Pop(2019)  white%  \n",
       "0           48          20        14     267306      68  \n",
       "1           36          27        14      28249      84  \n",
       "2           35          27        17     167283      80  \n",
       "3           36          27        18      28682      77  \n",
       "4           29          29        23     594469      78  \n",
       "..         ...         ...       ...        ...     ...  \n",
       "62          38          31        13      15505      71  \n",
       "63          30          28        24     538763      75  \n",
       "64          36          28        14      32976      82  \n",
       "65          32          29        19      70071      87  \n",
       "66          34          28        18      25387      82  \n",
       "\n",
       "[67 rows x 18 columns]"
      ]
     },
     "execution_count": 39,
     "metadata": {},
     "output_type": "execute_result"
    }
   ],
   "source": [
    "df_pres_2020"
   ]
  },
  {
   "cell_type": "code",
   "execution_count": 40,
   "metadata": {},
   "outputs": [],
   "source": [
    "# use model to predict winners.\n",
    "\n",
    "optimal_prediction =optimal.predict(df_pres_2020)"
   ]
  },
  {
   "cell_type": "code",
   "execution_count": 42,
   "metadata": {},
   "outputs": [],
   "source": [
    "# append to our predictions list\n",
    "# 1 = biden, 0 = trump\n",
    "\n",
    "predictions_2020 = county.copy()\n",
    "predictions_2020['predicted winner'] =  optimal_prediction.tolist()"
   ]
  },
  {
   "cell_type": "code",
   "execution_count": 44,
   "metadata": {},
   "outputs": [
    {
     "data": {
      "text/plain": [
       "<matplotlib.axes._subplots.AxesSubplot at 0xc9c89d0>"
      ]
     },
     "execution_count": 44,
     "metadata": {},
     "output_type": "execute_result"
    },
    {
     "data": {
      "image/png": "[encoded data removed]",
      "text/plain": [
       "<Figure size 1080x576 with 1 Axes>"
      ]
     },
     "metadata": {
      "needs_background": "light"
     },
     "output_type": "display_data"
    }
   ],
   "source": [
    "# lets plot that again.\n",
    "\n",
    "colors = np.where(predictions_2020['predicted winner'] == True, 'b', 'r')\n",
    "predictions_2020.plot.scatter(y = 'County', x = 'White%', \n",
    "                    c= colors, \n",
    "                    figsize=(15,8),\n",
    "                    title = 'Predicted 2020 President - Florida County Winning Party by % Population that is White ' )"
   ]
  },
  {
   "cell_type": "code",
   "execution_count": 71,
   "metadata": {},
   "outputs": [
    {
     "name": "stderr",
     "output_type": "stream",
     "text": [
      "C:\\Users\\me\\Anaconda3\\lib\\site-packages\\sklearn\\ensemble\\forest.py:245: FutureWarning: The default value of n_estimators will change from 10 in version 0.20 to 100 in 0.22.\n",
      "  \"10 in version 0.20 to 100 in 0.22.\", FutureWarning)\n"
     ]
    }
   ],
   "source": [
    "from sklearn.ensemble import RandomForestRegressor\n",
    "\n",
    "RF_regressor = RandomForestRegressor(n_jobs = -1)\n",
    "RF_regressor.fit(X_train, Y_train)\n",
    "RF_regressor.score(X_train, Y_train);"
   ]
  },
  {
   "cell_type": "code",
   "execution_count": 46,
   "metadata": {},
   "outputs": [],
   "source": [
    "# institute a regression to predict the voter breakdown by county.\n",
    "\n",
    "pres_regressor_predictions = RF_regressor.predict(df_pres_2020)"
   ]
  },
  {
   "cell_type": "code",
   "execution_count": 47,
   "metadata": {},
   "outputs": [],
   "source": [
    "election_pred = df.drop(columns = ['County', '2009', '2010', '2011', '2012', '2013', '2014', '2015',\n",
    "       '2016', '2017', '2018', 'Bachelors', 'GED', 'Totals', 'Black', 'Black%', 'Hispanic',\n",
    "       'Hispanic%', 'Area', 'Density (pop/sqmile)', 'Age(0-17)', 'Age(18-44)', 'Age(45-64)', 'Age(65+)',\n",
    "       'Pop(2010)', 'Pop(2000)', 'Pop(1990)', 'Grow%(10-19)',\n",
    "       'Grow%(00-09)', 'Grow%(90-00)', 'Grow%(30yr)', 'Senate_2018',\n",
    "       'Pres_2016', 'Senate_2016', 'Pres_2012', 'Senate_2012',\n",
    "       ]).copy()\n",
    "# applying our predictions to the population\n",
    "election_pred['spread'] =  pres_regressor_predictions.tolist()"
   ]
  },
  {
   "cell_type": "markdown",
   "metadata": {},
   "source": [
    "# Voter Trends in Florida"
   ]
  },
  {
   "cell_type": "code",
   "execution_count": 51,
   "metadata": {},
   "outputs": [],
   "source": [
    "# \n",
    "\n",
    "elections = pd.read_csv('data/States/FL/ballots cast/general_elections_since_2000.csv')\n",
    "\n",
    "# a little clean up\n",
    "elections = elections.sort_values('year')\n",
    "elections = elections[elections['county'] != 'DeSoto']\n",
    "elections = elections[elections['county'] != 'Dade']\n",
    "\n",
    "elections['Pres'] = elections['year'].apply(lambda x: isPres(x) )\n",
    "\n",
    "counties = elections['county'].unique()"
   ]
  },
  {
   "cell_type": "code",
   "execution_count": 52,
   "metadata": {},
   "outputs": [
    {
     "data": {
      "text/html": [
       "<div>\n",
       "<style scoped>\n",
       "    .dataframe tbody tr th:only-of-type {\n",
       "        vertical-align: middle;\n",
       "    }\n",
       "\n",
       "    .dataframe tbody tr th {\n",
       "        vertical-align: top;\n",
       "    }\n",
       "\n",
       "    .dataframe thead th {\n",
       "        text-align: right;\n",
       "    }\n",
       "</style>\n",
       "<table border=\"1\" class=\"dataframe\">\n",
       "  <thead>\n",
       "    <tr style=\"text-align: right;\">\n",
       "      <th></th>\n",
       "      <th>County</th>\n",
       "      <th>Republican</th>\n",
       "      <th>Democrat</th>\n",
       "      <th>Other Party</th>\n",
       "      <th>No Party</th>\n",
       "      <th>Voter_TAM</th>\n",
       "      <th>Unregistered</th>\n",
       "      <th>Pop(2019)</th>\n",
       "      <th>spread</th>\n",
       "    </tr>\n",
       "  </thead>\n",
       "  <tbody>\n",
       "    <tr>\n",
       "      <th>0</th>\n",
       "      <td>Alachua</td>\n",
       "      <td>49977</td>\n",
       "      <td>91341</td>\n",
       "      <td>2024</td>\n",
       "      <td>42051</td>\n",
       "      <td>220260</td>\n",
       "      <td>34867</td>\n",
       "      <td>267306</td>\n",
       "      <td>0.9</td>\n",
       "    </tr>\n",
       "    <tr>\n",
       "      <th>1</th>\n",
       "      <td>Leon</td>\n",
       "      <td>9338</td>\n",
       "      <td>4549</td>\n",
       "      <td>94</td>\n",
       "      <td>1771</td>\n",
       "      <td>21469</td>\n",
       "      <td>5717</td>\n",
       "      <td>28249</td>\n",
       "      <td>0.0</td>\n",
       "    </tr>\n",
       "    <tr>\n",
       "      <th>2</th>\n",
       "      <td>Levy</td>\n",
       "      <td>62100</td>\n",
       "      <td>28606</td>\n",
       "      <td>1603</td>\n",
       "      <td>24237</td>\n",
       "      <td>131150</td>\n",
       "      <td>14604</td>\n",
       "      <td>167283</td>\n",
       "      <td>0.0</td>\n",
       "    </tr>\n",
       "    <tr>\n",
       "      <th>3</th>\n",
       "      <td>Liberty</td>\n",
       "      <td>8650</td>\n",
       "      <td>5663</td>\n",
       "      <td>113</td>\n",
       "      <td>2540</td>\n",
       "      <td>23032</td>\n",
       "      <td>6066</td>\n",
       "      <td>28682</td>\n",
       "      <td>0.0</td>\n",
       "    </tr>\n",
       "    <tr>\n",
       "      <th>4</th>\n",
       "      <td>Madison</td>\n",
       "      <td>181798</td>\n",
       "      <td>133435</td>\n",
       "      <td>6724</td>\n",
       "      <td>106081</td>\n",
       "      <td>484492</td>\n",
       "      <td>56454</td>\n",
       "      <td>594469</td>\n",
       "      <td>0.3</td>\n",
       "    </tr>\n",
       "    <tr>\n",
       "      <th>...</th>\n",
       "      <td>...</td>\n",
       "      <td>...</td>\n",
       "      <td>...</td>\n",
       "      <td>...</td>\n",
       "      <td>...</td>\n",
       "      <td>...</td>\n",
       "      <td>...</td>\n",
       "      <td>...</td>\n",
       "      <td>...</td>\n",
       "    </tr>\n",
       "    <tr>\n",
       "      <th>62</th>\n",
       "      <td>Gilchrist</td>\n",
       "      <td>3833</td>\n",
       "      <td>2892</td>\n",
       "      <td>54</td>\n",
       "      <td>749</td>\n",
       "      <td>12761</td>\n",
       "      <td>5233</td>\n",
       "      <td>15505</td>\n",
       "      <td>0.0</td>\n",
       "    </tr>\n",
       "    <tr>\n",
       "      <th>63</th>\n",
       "      <td>Gadsden</td>\n",
       "      <td>139188</td>\n",
       "      <td>127316</td>\n",
       "      <td>4898</td>\n",
       "      <td>105201</td>\n",
       "      <td>441247</td>\n",
       "      <td>64644</td>\n",
       "      <td>538763</td>\n",
       "      <td>0.3</td>\n",
       "    </tr>\n",
       "    <tr>\n",
       "      <th>64</th>\n",
       "      <td>Franklin</td>\n",
       "      <td>9991</td>\n",
       "      <td>7861</td>\n",
       "      <td>242</td>\n",
       "      <td>3659</td>\n",
       "      <td>25721</td>\n",
       "      <td>3968</td>\n",
       "      <td>32976</td>\n",
       "      <td>0.0</td>\n",
       "    </tr>\n",
       "    <tr>\n",
       "      <th>65</th>\n",
       "      <td>Hardee</td>\n",
       "      <td>32476</td>\n",
       "      <td>10311</td>\n",
       "      <td>671</td>\n",
       "      <td>10327</td>\n",
       "      <td>55777</td>\n",
       "      <td>1992</td>\n",
       "      <td>70071</td>\n",
       "      <td>0.0</td>\n",
       "    </tr>\n",
       "    <tr>\n",
       "      <th>66</th>\n",
       "      <td>Miami-Dade</td>\n",
       "      <td>9011</td>\n",
       "      <td>4952</td>\n",
       "      <td>111</td>\n",
       "      <td>2573</td>\n",
       "      <td>20233</td>\n",
       "      <td>3586</td>\n",
       "      <td>25387</td>\n",
       "      <td>0.0</td>\n",
       "    </tr>\n",
       "  </tbody>\n",
       "</table>\n",
       "<p>67 rows × 9 columns</p>\n",
       "</div>"
      ],
      "text/plain": [
       "        County  Republican  Democrat  Other Party  No Party  Voter_TAM  \\\n",
       "0      Alachua       49977     91341         2024     42051     220260   \n",
       "1         Leon        9338      4549           94      1771      21469   \n",
       "2         Levy       62100     28606         1603     24237     131150   \n",
       "3      Liberty        8650      5663          113      2540      23032   \n",
       "4      Madison      181798    133435         6724    106081     484492   \n",
       "..         ...         ...       ...          ...       ...        ...   \n",
       "62   Gilchrist        3833      2892           54       749      12761   \n",
       "63     Gadsden      139188    127316         4898    105201     441247   \n",
       "64    Franklin        9991      7861          242      3659      25721   \n",
       "65      Hardee       32476     10311          671     10327      55777   \n",
       "66  Miami-Dade        9011      4952          111      2573      20233   \n",
       "\n",
       "    Unregistered  Pop(2019)  spread  \n",
       "0          34867     267306     0.9  \n",
       "1           5717      28249     0.0  \n",
       "2          14604     167283     0.0  \n",
       "3           6066      28682     0.0  \n",
       "4          56454     594469     0.3  \n",
       "..           ...        ...     ...  \n",
       "62          5233      15505     0.0  \n",
       "63         64644     538763     0.3  \n",
       "64          3968      32976     0.0  \n",
       "65          1992      70071     0.0  \n",
       "66          3586      25387     0.0  \n",
       "\n",
       "[67 rows x 9 columns]"
      ]
     },
     "execution_count": 52,
     "metadata": {},
     "output_type": "execute_result"
    }
   ],
   "source": [
    "election_pred.insert(0, 'County', counties.tolist())\n",
    "election_pred"
   ]
  },
  {
   "cell_type": "code",
   "execution_count": 53,
   "metadata": {},
   "outputs": [],
   "source": [
    "election_pred = election_pred[election_pred['County'] != 'DeSoto']\n",
    "election_pred = election_pred[election_pred['County'] != 'Dade']"
   ]
  },
  {
   "cell_type": "code",
   "execution_count": 54,
   "metadata": {},
   "outputs": [],
   "source": [
    "# calculate estimated voter turnout for all counties\n",
    "\n",
    "turnout_pred = []\n",
    "counties = election_pred['County'].unique()\n",
    "for c in counties:\n",
    "    turnout_pred.append(get_turnout(c)) \n",
    "election_pred['turnout_pred'] =  turnout_pred    "
   ]
  },
  {
   "cell_type": "code",
   "execution_count": 55,
   "metadata": {},
   "outputs": [
    {
     "data": {
      "text/html": [
       "<div>\n",
       "<style scoped>\n",
       "    .dataframe tbody tr th:only-of-type {\n",
       "        vertical-align: middle;\n",
       "    }\n",
       "\n",
       "    .dataframe tbody tr th {\n",
       "        vertical-align: top;\n",
       "    }\n",
       "\n",
       "    .dataframe thead th {\n",
       "        text-align: right;\n",
       "    }\n",
       "</style>\n",
       "<table border=\"1\" class=\"dataframe\">\n",
       "  <thead>\n",
       "    <tr style=\"text-align: right;\">\n",
       "      <th></th>\n",
       "      <th>County</th>\n",
       "      <th>Republican</th>\n",
       "      <th>Democrat</th>\n",
       "      <th>Other Party</th>\n",
       "      <th>No Party</th>\n",
       "      <th>Voter_TAM</th>\n",
       "      <th>Unregistered</th>\n",
       "      <th>Pop(2019)</th>\n",
       "      <th>spread</th>\n",
       "      <th>turnout_pred</th>\n",
       "    </tr>\n",
       "  </thead>\n",
       "  <tbody>\n",
       "    <tr>\n",
       "      <th>0</th>\n",
       "      <td>Alachua</td>\n",
       "      <td>49977</td>\n",
       "      <td>91341</td>\n",
       "      <td>2024</td>\n",
       "      <td>42051</td>\n",
       "      <td>220260</td>\n",
       "      <td>34867</td>\n",
       "      <td>267306</td>\n",
       "      <td>0.9</td>\n",
       "      <td>77.706667</td>\n",
       "    </tr>\n",
       "    <tr>\n",
       "      <th>1</th>\n",
       "      <td>Leon</td>\n",
       "      <td>9338</td>\n",
       "      <td>4549</td>\n",
       "      <td>94</td>\n",
       "      <td>1771</td>\n",
       "      <td>21469</td>\n",
       "      <td>5717</td>\n",
       "      <td>28249</td>\n",
       "      <td>0.0</td>\n",
       "      <td>83.433333</td>\n",
       "    </tr>\n",
       "    <tr>\n",
       "      <th>2</th>\n",
       "      <td>Levy</td>\n",
       "      <td>62100</td>\n",
       "      <td>28606</td>\n",
       "      <td>1603</td>\n",
       "      <td>24237</td>\n",
       "      <td>131150</td>\n",
       "      <td>14604</td>\n",
       "      <td>167283</td>\n",
       "      <td>0.0</td>\n",
       "      <td>76.773333</td>\n",
       "    </tr>\n",
       "    <tr>\n",
       "      <th>3</th>\n",
       "      <td>Liberty</td>\n",
       "      <td>8650</td>\n",
       "      <td>5663</td>\n",
       "      <td>113</td>\n",
       "      <td>2540</td>\n",
       "      <td>23032</td>\n",
       "      <td>6066</td>\n",
       "      <td>28682</td>\n",
       "      <td>0.0</td>\n",
       "      <td>81.866667</td>\n",
       "    </tr>\n",
       "    <tr>\n",
       "      <th>4</th>\n",
       "      <td>Madison</td>\n",
       "      <td>181798</td>\n",
       "      <td>133435</td>\n",
       "      <td>6724</td>\n",
       "      <td>106081</td>\n",
       "      <td>484492</td>\n",
       "      <td>56454</td>\n",
       "      <td>594469</td>\n",
       "      <td>0.3</td>\n",
       "      <td>78.653333</td>\n",
       "    </tr>\n",
       "  </tbody>\n",
       "</table>\n",
       "</div>"
      ],
      "text/plain": [
       "    County  Republican  Democrat  Other Party  No Party  Voter_TAM  \\\n",
       "0  Alachua       49977     91341         2024     42051     220260   \n",
       "1     Leon        9338      4549           94      1771      21469   \n",
       "2     Levy       62100     28606         1603     24237     131150   \n",
       "3  Liberty        8650      5663          113      2540      23032   \n",
       "4  Madison      181798    133435         6724    106081     484492   \n",
       "\n",
       "   Unregistered  Pop(2019)  spread  turnout_pred  \n",
       "0         34867     267306     0.9     77.706667  \n",
       "1          5717      28249     0.0     83.433333  \n",
       "2         14604     167283     0.0     76.773333  \n",
       "3          6066      28682     0.0     81.866667  \n",
       "4         56454     594469     0.3     78.653333  "
      ]
     },
     "execution_count": 55,
     "metadata": {},
     "output_type": "execute_result"
    }
   ],
   "source": [
    "election_pred.head()"
   ]
  },
  {
   "cell_type": "code",
   "execution_count": 56,
   "metadata": {},
   "outputs": [],
   "source": [
    "# How many people are expected vote\n",
    "\n",
    "# from americaprogress.org, an average of 90% of registered voters will vote \n",
    "# in the Presidential Election (65% for general)  https://www.americanprogress.org/\n",
    "\n",
    "registered_voter_rate = 0.9\n",
    "\n",
    "# total_predicted_vote = TAM*turnout_pred\n",
    "# predicted r = Rep * registered_voters (0.9)\n",
    "# predicted d = Dem * registered_voters (0.9)\n",
    "\n",
    "#total_predicted_vote = voting_republicans + voting_dems + other_party + remainder\n",
    "#remainder = No Party + last_minute_voters\n",
    "#last minute voters = 30% rep, 30% dem, remainder*spread for dem, and remainder*(1-spread) for rep\n",
    "\n"
   ]
  },
  {
   "cell_type": "code",
   "execution_count": 57,
   "metadata": {},
   "outputs": [],
   "source": [
    "# calculating our total voter turnout by county\n",
    "election_pred['pred_total'] = election_pred['Voter_TAM']*election_pred['turnout_pred']/100\n",
    "\n",
    "# calculating our voter turnout by county by party\n",
    "election_pred['pred_r'] = election_pred['Republican']*registered_voter_rate\n",
    "election_pred['pred_d'] = election_pred['Democrat']*registered_voter_rate\n",
    "election_pred['pred_u'] = election_pred['No Party']*registered_voter_rate\n",
    "\n",
    "# calculating remainder vote\n",
    "election_pred['remainder'] = election_pred['pred_total'] - election_pred['pred_r'] - election_pred['pred_d'] - election_pred['Other Party']\n",
    "election_pred['pRep'] = election_pred['remainder']*0.3 + election_pred['remainder']*0.4*(1-election_pred['spread'])\n",
    "election_pred['pDem'] = election_pred['remainder']*0.3 + election_pred['remainder']*0.4*(election_pred['spread'])\n",
    "\n",
    "election_pred['Rep 2020'] = election_pred['pRep'] + election_pred['pred_r']\n",
    "election_pred['Dem 2020'] = election_pred['pDem'] + election_pred['pred_d']"
   ]
  },
  {
   "cell_type": "code",
   "execution_count": 58,
   "metadata": {},
   "outputs": [
    {
     "data": {
      "text/plain": [
       "Index(['County', 'Republican', 'Democrat', 'Other Party', 'No Party',\n",
       "       'Voter_TAM', 'Unregistered', 'Pop(2019)', 'spread', 'turnout_pred',\n",
       "       'pred_total', 'pred_r', 'pred_d', 'pred_u', 'remainder', 'pRep', 'pDem',\n",
       "       'Rep 2020', 'Dem 2020'],\n",
       "      dtype='object')"
      ]
     },
     "execution_count": 58,
     "metadata": {},
     "output_type": "execute_result"
    }
   ],
   "source": [
    "election_pred.columns.unique()"
   ]
  },
  {
   "cell_type": "code",
   "execution_count": 59,
   "metadata": {},
   "outputs": [],
   "source": [
    "FL_Pred = election_pred.drop(columns=['Republican', 'Democrat', 'Other Party', 'No Party',\n",
    "       'Voter_TAM', 'Unregistered', 'Pop(2019)', 'spread', 'turnout_pred',\n",
    "       'pred_r', 'pred_d', 'pred_total', 'pred_u', 'remainder', 'pRep', 'pDem'\n",
    "       ])"
   ]
  },
  {
   "cell_type": "code",
   "execution_count": 60,
   "metadata": {},
   "outputs": [],
   "source": [
    "FL_Pred.rename(columns = {'Rep 2020':'Trump',\n",
    "                        'Dem 2020':'Biden'}, \n",
    "                        inplace=True) "
   ]
  },
  {
   "cell_type": "code",
   "execution_count": 61,
   "metadata": {},
   "outputs": [],
   "source": [
    "# assign winner\n",
    "\n",
    "FL_Pred.loc[FL_Pred['Biden'] > FL_Pred['Trump'], 'Winner'] = 'Biden'\n",
    "FL_Pred.loc[FL_Pred['Biden'] < FL_Pred['Trump'], 'Winner'] = 'Trump'"
   ]
  },
  {
   "cell_type": "markdown",
   "metadata": {},
   "source": [
    "# 4. And the Winner is...  "
   ]
  },
  {
   "cell_type": "code",
   "execution_count": 67,
   "metadata": {},
   "outputs": [
    {
     "data": {
      "image/png": "[encoded data removed]",
      "text/plain": [
       "<Figure size 1080x648 with 1 Axes>"
      ]
     },
     "metadata": {
      "needs_background": "light"
     },
     "output_type": "display_data"
    }
   ],
   "source": [
    "# Plotting our Florida Forecast\n",
    "\n",
    "FL_Pred = FL_Pred.sort_values(by=['Winner', 'Trump'], ascending = False)\n",
    "barWidth = 0.5\n",
    "\n",
    "bars1 = FL_Pred['Biden']\n",
    "bars2 = FL_Pred['Trump']\n",
    "\n",
    "# positioning\n",
    "r1 = np.arange(len(bars1))\n",
    "r2 = [x + barWidth for x in r1]\n",
    "\n",
    "# plot\n",
    "\n",
    "plt.figure(figsize=(15,9))\n",
    "ax = plt.bar(r1, bars1, color = 'blue', width = barWidth, label = 'Biden')\n",
    "ax = plt.bar(r2, bars2, color = 'red', width = barWidth, label = 'Trump')\n",
    "\n",
    "\n",
    "counties_for_plot = FL_Pred[\"County\"].unique()\n",
    "plt.grid(b=None)\n",
    "plt.xticks([r + barWidth for r in range(len(bars1))], counties_for_plot)\n",
    "plt.xticks(rotation=90)\n",
    "\n",
    "plt.ylabel('# of Votes')\n",
    "plt.text(12, 500000,\"Trump: \" + str(int(round(FL_Pred['Trump'].sum(), 0))), fontsize=18)\n",
    "plt.text(55, 500000,\"Biden: \" + str(int(round(FL_Pred['Biden'].sum(), 0))), fontsize=18)\n",
    "\n",
    "plt.title('Florida Predicted Presidential Election Results by County')\n",
    "plt.legend()\n",
    "plt.show()"
   ]
  },
  {
   "cell_type": "code",
   "execution_count": 63,
   "metadata": {},
   "outputs": [
    {
     "data": {
      "text/html": [
       "<div>\n",
       "<style scoped>\n",
       "    .dataframe tbody tr th:only-of-type {\n",
       "        vertical-align: middle;\n",
       "    }\n",
       "\n",
       "    .dataframe tbody tr th {\n",
       "        vertical-align: top;\n",
       "    }\n",
       "\n",
       "    .dataframe thead th {\n",
       "        text-align: right;\n",
       "    }\n",
       "</style>\n",
       "<table border=\"1\" class=\"dataframe\">\n",
       "  <thead>\n",
       "    <tr style=\"text-align: right;\">\n",
       "      <th></th>\n",
       "      <th>County</th>\n",
       "      <th>Trump</th>\n",
       "      <th>Biden</th>\n",
       "      <th>Winner</th>\n",
       "    </tr>\n",
       "  </thead>\n",
       "  <tbody>\n",
       "    <tr>\n",
       "      <th>35</th>\n",
       "      <td>Baker</td>\n",
       "      <td>352896</td>\n",
       "      <td>191041</td>\n",
       "      <td>Trump</td>\n",
       "    </tr>\n",
       "    <tr>\n",
       "      <th>15</th>\n",
       "      <td>Lee</td>\n",
       "      <td>295163</td>\n",
       "      <td>278312</td>\n",
       "      <td>Trump</td>\n",
       "    </tr>\n",
       "    <tr>\n",
       "      <th>52</th>\n",
       "      <td>Indian River</td>\n",
       "      <td>238409</td>\n",
       "      <td>180896</td>\n",
       "      <td>Trump</td>\n",
       "    </tr>\n",
       "    <tr>\n",
       "      <th>4</th>\n",
       "      <td>Madison</td>\n",
       "      <td>216187</td>\n",
       "      <td>158158</td>\n",
       "      <td>Trump</td>\n",
       "    </tr>\n",
       "    <tr>\n",
       "      <th>63</th>\n",
       "      <td>Gadsden</td>\n",
       "      <td>194228</td>\n",
       "      <td>164520</td>\n",
       "      <td>Trump</td>\n",
       "    </tr>\n",
       "  </tbody>\n",
       "</table>\n",
       "</div>"
      ],
      "text/plain": [
       "          County   Trump   Biden Winner\n",
       "35         Baker  352896  191041  Trump\n",
       "15           Lee  295163  278312  Trump\n",
       "52  Indian River  238409  180896  Trump\n",
       "4        Madison  216187  158158  Trump\n",
       "63       Gadsden  194228  164520  Trump"
      ]
     },
     "execution_count": 63,
     "metadata": {},
     "output_type": "execute_result"
    }
   ],
   "source": [
    "FL_Pred['Trump'] = FL_Pred['Trump'].round(0).astype(int)\n",
    "FL_Pred['Biden'] = FL_Pred['Biden'].round(0).astype(int)\n",
    "FL_Pred.head()"
   ]
  },
  {
   "cell_type": "code",
   "execution_count": 64,
   "metadata": {},
   "outputs": [],
   "source": [
    "# Save to CSV and we're done.\n",
    "\n",
    "FL_Pred.to_csv('predictions/FL_Pres_2020_Predictions.csv', index=True)"
   ]
  },
  {
   "cell_type": "code",
   "execution_count": null,
   "metadata": {},
   "outputs": [],
   "source": []
  }
 ],
 "metadata": {
  "kernelspec": {
   "display_name": "Python 3",
   "language": "python",
   "name": "python3"
  },
  "language_info": {
   "codemirror_mode": {
    "name": "ipython",
    "version": 3
   },
   "file_extension": ".py",
   "mimetype": "text/x-python",
   "name": "python",
   "nbconvert_exporter": "python",
   "pygments_lexer": "ipython3",
   "version": "3.7.3"
  }
 },
 "nbformat": 4,
 "nbformat_minor": 4
}
